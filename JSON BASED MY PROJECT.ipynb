{
 "cells": [
  {
   "cell_type": "code",
   "execution_count": 1,
   "id": "77ad562b",
   "metadata": {},
   "outputs": [],
   "source": [
    "info = { 112233 : {\"company_name\"   :  \"jio\"        ,   \"price\" :  219 ,  \"validity\" : 28  ,  \"sim_no\"  :  1122  ,  \"activate_month\" : \"april\" },\n",
    "         112234 : {\"company_name\" :    \"airtel\"     ,   \"price\" :  399 ,  \"validity\" : 56  ,  \"sim_no\"  :  1123  ,  \"activate_month\" : \"june\"},\n",
    "         112235 : {\"company_name\" :    \"VI\"         ,   \"price\" :  598 ,  \"validity\" : 84  ,  \"sim_no\"  :  1124  ,  \"activate_month\" : \"may\"},\n",
    "         112236 : {\"company_name\" :    \"vodafone\"   ,   \"price\" :  199 ,  \"validity\" : 28  ,  \"sim_no\"  :  1125  ,  \"activate_month\" : \"february\"},\n",
    "         112237 : {\"company_name\" :    \"idea\"       ,   \"price\" :  398 ,  \"validity\" : 56  ,  \"sim_no\"  :  1126  ,  \"activate_month\" : \"december\"},\n",
    "         112238 : {\"company_name\" :    \"relaince\"   ,   \"price\" :  498 ,  \"validity\" : 84  ,  \"sim_no\"  :  1127  ,  \"activate_month\" : \"august\"},\n",
    "         112239 : {\"company_name\" :    \"gsm\"        ,   \"price\" :  158 ,  \"validity\" : 28  ,  \"sim_no\"  :  1128  ,  \"activate_month\" : \"july\"},\n",
    "         112240 : {\"company_name\" :    \"telenor\"    ,   \"price\" :  359 ,  \"validity\" : 56  ,  \"sim_no\"  :  1129  ,  \"activate_month\" : \"january\"},\n",
    "         112241 : {\"company_name\" :    \"tata_docomo\",   \"price\" :  599 ,  \"validity\" : 84  ,  \"sim_no\"  :  1130  ,  \"activate_month\" : \"march\"},\n",
    "         112242 : {\"company_name\" :    \"uninore\"    ,   \"price\" :  129 ,  \"validity\" : 28  ,  \"sim_no\"  :  1131  ,  \"activate_month\" : \"april\"},\n",
    "         112243 : {\"company_name\" :    \"videocon\"   ,   \"price\" :  129 ,  \"validity\" : 28  ,  \"sim_no\"  :  1131  ,  \"activate_month\" : \"december\"},\n",
    "         112244 : {\"company_name\" :    \"zing\"       ,   \"price\" :  129 ,  \"validity\" : 28  ,  \"sim_no\"  :  1131  ,  \"activate_month\" : \"september\"},\n",
    "         112245 : {\"company_name\" :    \"tata_sky\"   ,   \"price\" :  129 ,  \"validity\" : 28  ,  \"sim_no\"  :  1131  ,  \"activate_month\" : \"april\"},\n",
    "         112246 : {\"company_name\" :    \"bsnl\"       ,   \"price\" :  129 ,  \"validity\" : 28  ,  \"sim_no\"  :  1131  ,  \"activate_month\" : \"june\"},\n",
    "         112247 : {\"company_name\" :    \"tata_indicom\",  \"price\" :  129,   \"validity\" : 28  ,  \"sim_no\"  :  1131  ,  \"activate_month\" : \"may\"},\n",
    "         112248 : {\"company_name\" :    \"aircel\"     ,   \"price\" :  129 ,  \"validity\" : 28  ,  \"sim_no\"  :  1131  ,  \"activate_month\" : \"april\"},\n",
    "         112249 : {\"company_name\" :    \"mtnl\"       ,   \"price\" :  129 ,  \"validity\" : 28  ,  \"sim_no\"  :  1131  ,  \"activate_month\" : \"august\"},\n",
    "         112250 : {\"company_name\" :    \"bpl\"        ,   \"price\" :  129 ,  \"validity\" : 28  ,  \"sim_no\"  :  1131  ,  \"activate_month\" : \"april\"}}\n"
   ]
  },
  {
   "cell_type": "code",
   "execution_count": 2,
   "id": "ba6664ca",
   "metadata": {},
   "outputs": [
    {
     "name": "stdout",
     "output_type": "stream",
     "text": [
      "airtel\n",
      "399\n",
      "56\n",
      "1123\n",
      "june\n"
     ]
    }
   ],
   "source": [
    "reg = 112234\n",
    "print(info[reg][\"company_name\"])\n",
    "print(info[reg][\"price\"])\n",
    "print(info[reg][\"validity\"])\n",
    "print(info[reg][\"sim_no\"])\n",
    "print(info[reg][\"activate_month\"])"
   ]
  },
  {
   "cell_type": "code",
   "execution_count": 3,
   "id": "894818f3",
   "metadata": {},
   "outputs": [
    {
     "data": {
      "text/plain": [
       "{112233: {'company_name': 'jio',\n",
       "  'price': 219,\n",
       "  'validity': 28,\n",
       "  'sim_no': 1122,\n",
       "  'activate_month': 'april'},\n",
       " 112234: {'company_name': 'airtel',\n",
       "  'price': 199,\n",
       "  'validity': 90,\n",
       "  'sim_no': 1123,\n",
       "  'activate_month': 'june'},\n",
       " 112235: {'company_name': 'VI',\n",
       "  'price': 598,\n",
       "  'validity': 84,\n",
       "  'sim_no': 1124,\n",
       "  'activate_month': 'may'},\n",
       " 112236: {'company_name': 'vodafone',\n",
       "  'price': 199,\n",
       "  'validity': 28,\n",
       "  'sim_no': 1125,\n",
       "  'activate_month': 'february'},\n",
       " 112237: {'company_name': 'idea',\n",
       "  'price': 398,\n",
       "  'validity': 56,\n",
       "  'sim_no': 1126,\n",
       "  'activate_month': 'december'},\n",
       " 112238: {'company_name': 'relaince',\n",
       "  'price': 498,\n",
       "  'validity': 84,\n",
       "  'sim_no': 1127,\n",
       "  'activate_month': 'august'},\n",
       " 112239: {'company_name': 'gsm',\n",
       "  'price': 158,\n",
       "  'validity': 28,\n",
       "  'sim_no': 1128,\n",
       "  'activate_month': 'july'},\n",
       " 112240: {'company_name': 'telenor',\n",
       "  'price': 359,\n",
       "  'validity': 56,\n",
       "  'sim_no': 1129,\n",
       "  'activate_month': 'january'},\n",
       " 112241: {'company_name': 'tata_docomo',\n",
       "  'price': 599,\n",
       "  'validity': 84,\n",
       "  'sim_no': 1130,\n",
       "  'activate_month': 'march'},\n",
       " 112242: {'company_name': 'uninore',\n",
       "  'price': 129,\n",
       "  'validity': 28,\n",
       "  'sim_no': 1131,\n",
       "  'activate_month': 'april'},\n",
       " 112243: {'company_name': 'videocon',\n",
       "  'price': 129,\n",
       "  'validity': 28,\n",
       "  'sim_no': 1131,\n",
       "  'activate_month': 'december'},\n",
       " 112244: {'company_name': 'zing',\n",
       "  'price': 129,\n",
       "  'validity': 28,\n",
       "  'sim_no': 1131,\n",
       "  'activate_month': 'september'},\n",
       " 112245: {'company_name': 'tata_sky',\n",
       "  'price': 129,\n",
       "  'validity': 28,\n",
       "  'sim_no': 1131,\n",
       "  'activate_month': 'april'},\n",
       " 112246: {'company_name': 'bsnl',\n",
       "  'price': 129,\n",
       "  'validity': 28,\n",
       "  'sim_no': 1131,\n",
       "  'activate_month': 'june'},\n",
       " 112247: {'company_name': 'tata_indicom',\n",
       "  'price': 129,\n",
       "  'validity': 28,\n",
       "  'sim_no': 1131,\n",
       "  'activate_month': 'may'},\n",
       " 112248: {'company_name': 'aircel',\n",
       "  'price': 129,\n",
       "  'validity': 28,\n",
       "  'sim_no': 1131,\n",
       "  'activate_month': 'april'},\n",
       " 112249: {'company_name': 'mtnl',\n",
       "  'price': 129,\n",
       "  'validity': 28,\n",
       "  'sim_no': 1131,\n",
       "  'activate_month': 'august'},\n",
       " 112250: {'company_name': 'bpl',\n",
       "  'price': 129,\n",
       "  'validity': 28,\n",
       "  'sim_no': 1131,\n",
       "  'activate_month': 'april'}}"
      ]
     },
     "execution_count": 3,
     "metadata": {},
     "output_type": "execute_result"
    }
   ],
   "source": [
    "info[reg][\"price\"] = 199\n",
    "info[reg][\"validity\"] = 90\n",
    "\n",
    "\n",
    "info\n"
   ]
  },
  {
   "cell_type": "code",
   "execution_count": 4,
   "id": "9d64d566",
   "metadata": {},
   "outputs": [],
   "source": [
    "info = { 112233 : {\"company_name\"   :  \"jio\"        ,   \"price\" :  219 ,  \"validity\" : 28  ,  \"sim_no\"  :  1122  ,  \"activate_month\" : \"april\" },\n",
    "         112234 : {\"company_name\" :    \"airtel\"     ,   \"price\" :  399 ,  \"validity\" : 56  ,  \"sim_no\"  :  1123  ,  \"activate_month\" : \"june\"},\n",
    "         112235 : {\"company_name\" :    \"VI\"         ,   \"price\" :  598 ,  \"validity\" : 84  ,  \"sim_no\"  :  1124  ,  \"activate_month\" : \"may\"},\n",
    "         112236 : {\"company_name\" :    \"vodafone\"   ,   \"price\" :  199 ,  \"validity\" : 28  ,  \"sim_no\"  :  1125  ,  \"activate_month\" : \"february\"},\n",
    "         112237 : {\"company_name\" :    \"idea\"       ,   \"price\" :  398 ,  \"validity\" : 56  ,  \"sim_no\"  :  1126  ,  \"activate_month\" : \"december\"},\n",
    "         112238 : {\"company_name\" :    \"relaince\"   ,   \"price\" :  498 ,  \"validity\" : 84  ,  \"sim_no\"  :  1127  ,  \"activate_month\" : \"august\"},\n",
    "         112239 : {\"company_name\" :    \"gsm\"        ,   \"price\" :  158 ,  \"validity\" : 28  ,  \"sim_no\"  :  1128  ,  \"activate_month\" : \"july\"},\n",
    "         112240 : {\"company_name\" :    \"telenor\"    ,   \"price\" :  359 ,  \"validity\" : 56  ,  \"sim_no\"  :  1129  ,  \"activate_month\" : \"january\"},\n",
    "         112241 : {\"company_name\" :    \"tata_docomo\",   \"price\" :  599 ,  \"validity\" : 84  ,  \"sim_no\"  :  1130  ,  \"activate_month\" : \"march\"},\n",
    "         112242 : {\"company_name\" :    \"uninore\"    ,   \"price\" :  129 ,  \"validity\" : 28  ,  \"sim_no\"  :  1131  ,  \"activate_month\" : \"april\"},\n",
    "         112243 : {\"company_name\" :    \"videocon\"   ,   \"price\" :  129 ,  \"validity\" : 28  ,  \"sim_no\"  :  1131  ,  \"activate_month\" : \"december\"},\n",
    "         112244 : {\"company_name\" :    \"zing\"       ,   \"price\" :  129 ,  \"validity\" : 28  ,  \"sim_no\"  :  1131  ,  \"activate_month\" : \"september\"},\n",
    "         112245 : {\"company_name\" :    \"tata_sky\"   ,   \"price\" :  129 ,  \"validity\" : 28  ,  \"sim_no\"  :  1131  ,  \"activate_month\" : \"april\"},\n",
    "         112246 : {\"company_name\" :    \"bsnl\"       ,   \"price\" :  129 ,  \"validity\" : 28  ,  \"sim_no\"  :  1131  ,  \"activate_month\" : \"june\"},\n",
    "         112247 : {\"company_name\" :    \"tata_indicom\",  \"price\" :  129,   \"validity\" : 28  ,  \"sim_no\"  :  1131  ,  \"activate_month\" : \"may\"},\n",
    "         112248 : {\"company_name\" :    \"aircel\"     ,   \"price\" :  129 ,  \"validity\" : 28  ,  \"sim_no\"  :  1131  ,  \"activate_month\" : \"april\"},\n",
    "         112249 : {\"company_name\" :    \"mtnl\"       ,   \"price\" :  129 ,  \"validity\" : 28  ,  \"sim_no\"  :  1131  ,  \"activate_month\" : \"august\"},\n",
    "         112250 : {\"company_name\" :    \"bpl\"        ,   \"price\" :  129 ,  \"validity\" : 28  ,  \"sim_no\"  :  1131  ,  \"activate_month\" : \"april\"}}\n"
   ]
  },
  {
   "cell_type": "code",
   "execution_count": 5,
   "id": "99545cb8",
   "metadata": {},
   "outputs": [],
   "source": [
    "import json"
   ]
  },
  {
   "cell_type": "code",
   "execution_count": 6,
   "id": "3fe03160",
   "metadata": {},
   "outputs": [
    {
     "data": {
      "text/plain": [
       "'{\"112233\": {\"company_name\": \"jio\", \"price\": 219, \"validity\": 28, \"sim_no\": 1122, \"activate_month\": \"april\"}, \"112234\": {\"company_name\": \"airtel\", \"price\": 399, \"validity\": 56, \"sim_no\": 1123, \"activate_month\": \"june\"}, \"112235\": {\"company_name\": \"VI\", \"price\": 598, \"validity\": 84, \"sim_no\": 1124, \"activate_month\": \"may\"}, \"112236\": {\"company_name\": \"vodafone\", \"price\": 199, \"validity\": 28, \"sim_no\": 1125, \"activate_month\": \"february\"}, \"112237\": {\"company_name\": \"idea\", \"price\": 398, \"validity\": 56, \"sim_no\": 1126, \"activate_month\": \"december\"}, \"112238\": {\"company_name\": \"relaince\", \"price\": 498, \"validity\": 84, \"sim_no\": 1127, \"activate_month\": \"august\"}, \"112239\": {\"company_name\": \"gsm\", \"price\": 158, \"validity\": 28, \"sim_no\": 1128, \"activate_month\": \"july\"}, \"112240\": {\"company_name\": \"telenor\", \"price\": 359, \"validity\": 56, \"sim_no\": 1129, \"activate_month\": \"january\"}, \"112241\": {\"company_name\": \"tata_docomo\", \"price\": 599, \"validity\": 84, \"sim_no\": 1130, \"activate_month\": \"march\"}, \"112242\": {\"company_name\": \"uninore\", \"price\": 129, \"validity\": 28, \"sim_no\": 1131, \"activate_month\": \"april\"}, \"112243\": {\"company_name\": \"videocon\", \"price\": 129, \"validity\": 28, \"sim_no\": 1131, \"activate_month\": \"december\"}, \"112244\": {\"company_name\": \"zing\", \"price\": 129, \"validity\": 28, \"sim_no\": 1131, \"activate_month\": \"september\"}, \"112245\": {\"company_name\": \"tata_sky\", \"price\": 129, \"validity\": 28, \"sim_no\": 1131, \"activate_month\": \"april\"}, \"112246\": {\"company_name\": \"bsnl\", \"price\": 129, \"validity\": 28, \"sim_no\": 1131, \"activate_month\": \"june\"}, \"112247\": {\"company_name\": \"tata_indicom\", \"price\": 129, \"validity\": 28, \"sim_no\": 1131, \"activate_month\": \"may\"}, \"112248\": {\"company_name\": \"aircel\", \"price\": 129, \"validity\": 28, \"sim_no\": 1131, \"activate_month\": \"april\"}, \"112249\": {\"company_name\": \"mtnl\", \"price\": 129, \"validity\": 28, \"sim_no\": 1131, \"activate_month\": \"august\"}, \"112250\": {\"company_name\": \"bpl\", \"price\": 129, \"validity\": 28, \"sim_no\": 1131, \"activate_month\": \"april\"}}'"
      ]
     },
     "execution_count": 6,
     "metadata": {},
     "output_type": "execute_result"
    }
   ],
   "source": [
    "js = json.dumps(info)\n",
    "js\n"
   ]
  },
  {
   "cell_type": "code",
   "execution_count": 7,
   "id": "17030303",
   "metadata": {},
   "outputs": [],
   "source": [
    "file = open(\"file.txt\",\"w\")\n",
    "file.write(js)\n",
    "file.close()"
   ]
  },
  {
   "cell_type": "code",
   "execution_count": 8,
   "id": "685ed870",
   "metadata": {},
   "outputs": [
    {
     "data": {
      "text/plain": [
       "'{\"112233\": {\"company_name\": \"jio\", \"price\": 219, \"validity\": 28, \"sim_no\": 1122, \"activate_month\": \"april\"}, \"112234\": {\"company_name\": \"airtel\", \"price\": 399, \"validity\": 56, \"sim_no\": 1123, \"activate_month\": \"june\"}, \"112235\": {\"company_name\": \"VI\", \"price\": 598, \"validity\": 84, \"sim_no\": 1124, \"activate_month\": \"may\"}, \"112236\": {\"company_name\": \"vodafone\", \"price\": 199, \"validity\": 28, \"sim_no\": 1125, \"activate_month\": \"february\"}, \"112237\": {\"company_name\": \"idea\", \"price\": 398, \"validity\": 56, \"sim_no\": 1126, \"activate_month\": \"december\"}, \"112238\": {\"company_name\": \"relaince\", \"price\": 498, \"validity\": 84, \"sim_no\": 1127, \"activate_month\": \"august\"}, \"112239\": {\"company_name\": \"gsm\", \"price\": 158, \"validity\": 28, \"sim_no\": 1128, \"activate_month\": \"july\"}, \"112240\": {\"company_name\": \"telenor\", \"price\": 359, \"validity\": 56, \"sim_no\": 1129, \"activate_month\": \"january\"}, \"112241\": {\"company_name\": \"tata_docomo\", \"price\": 599, \"validity\": 84, \"sim_no\": 1130, \"activate_month\": \"march\"}, \"112242\": {\"company_name\": \"uninore\", \"price\": 129, \"validity\": 28, \"sim_no\": 1131, \"activate_month\": \"april\"}, \"112243\": {\"company_name\": \"videocon\", \"price\": 129, \"validity\": 28, \"sim_no\": 1131, \"activate_month\": \"december\"}, \"112244\": {\"company_name\": \"zing\", \"price\": 129, \"validity\": 28, \"sim_no\": 1131, \"activate_month\": \"september\"}, \"112245\": {\"company_name\": \"tata_sky\", \"price\": 129, \"validity\": 28, \"sim_no\": 1131, \"activate_month\": \"april\"}, \"112246\": {\"company_name\": \"bsnl\", \"price\": 129, \"validity\": 28, \"sim_no\": 1131, \"activate_month\": \"june\"}, \"112247\": {\"company_name\": \"tata_indicom\", \"price\": 129, \"validity\": 28, \"sim_no\": 1131, \"activate_month\": \"may\"}, \"112248\": {\"company_name\": \"aircel\", \"price\": 129, \"validity\": 28, \"sim_no\": 1131, \"activate_month\": \"april\"}, \"112249\": {\"company_name\": \"mtnl\", \"price\": 129, \"validity\": 28, \"sim_no\": 1131, \"activate_month\": \"august\"}, \"112250\": {\"company_name\": \"bpl\", \"price\": 129, \"validity\": 28, \"sim_no\": 1131, \"activate_month\": \"april\"}}'"
      ]
     },
     "execution_count": 8,
     "metadata": {},
     "output_type": "execute_result"
    }
   ],
   "source": [
    "file = open(\"file.txt\",\"r\")\n",
    "a = file.read()\n",
    "file.close()\n",
    "a\n"
   ]
  },
  {
   "cell_type": "code",
   "execution_count": 9,
   "id": "5c552bc2",
   "metadata": {},
   "outputs": [
    {
     "data": {
      "text/plain": [
       "{'112233': {'company_name': 'jio',\n",
       "  'price': 219,\n",
       "  'validity': 28,\n",
       "  'sim_no': 1122,\n",
       "  'activate_month': 'april'},\n",
       " '112234': {'company_name': 'airtel',\n",
       "  'price': 399,\n",
       "  'validity': 56,\n",
       "  'sim_no': 1123,\n",
       "  'activate_month': 'june'},\n",
       " '112235': {'company_name': 'VI',\n",
       "  'price': 598,\n",
       "  'validity': 84,\n",
       "  'sim_no': 1124,\n",
       "  'activate_month': 'may'},\n",
       " '112236': {'company_name': 'vodafone',\n",
       "  'price': 199,\n",
       "  'validity': 28,\n",
       "  'sim_no': 1125,\n",
       "  'activate_month': 'february'},\n",
       " '112237': {'company_name': 'idea',\n",
       "  'price': 398,\n",
       "  'validity': 56,\n",
       "  'sim_no': 1126,\n",
       "  'activate_month': 'december'},\n",
       " '112238': {'company_name': 'relaince',\n",
       "  'price': 498,\n",
       "  'validity': 84,\n",
       "  'sim_no': 1127,\n",
       "  'activate_month': 'august'},\n",
       " '112239': {'company_name': 'gsm',\n",
       "  'price': 158,\n",
       "  'validity': 28,\n",
       "  'sim_no': 1128,\n",
       "  'activate_month': 'july'},\n",
       " '112240': {'company_name': 'telenor',\n",
       "  'price': 359,\n",
       "  'validity': 56,\n",
       "  'sim_no': 1129,\n",
       "  'activate_month': 'january'},\n",
       " '112241': {'company_name': 'tata_docomo',\n",
       "  'price': 599,\n",
       "  'validity': 84,\n",
       "  'sim_no': 1130,\n",
       "  'activate_month': 'march'},\n",
       " '112242': {'company_name': 'uninore',\n",
       "  'price': 129,\n",
       "  'validity': 28,\n",
       "  'sim_no': 1131,\n",
       "  'activate_month': 'april'},\n",
       " '112243': {'company_name': 'videocon',\n",
       "  'price': 129,\n",
       "  'validity': 28,\n",
       "  'sim_no': 1131,\n",
       "  'activate_month': 'december'},\n",
       " '112244': {'company_name': 'zing',\n",
       "  'price': 129,\n",
       "  'validity': 28,\n",
       "  'sim_no': 1131,\n",
       "  'activate_month': 'september'},\n",
       " '112245': {'company_name': 'tata_sky',\n",
       "  'price': 129,\n",
       "  'validity': 28,\n",
       "  'sim_no': 1131,\n",
       "  'activate_month': 'april'},\n",
       " '112246': {'company_name': 'bsnl',\n",
       "  'price': 129,\n",
       "  'validity': 28,\n",
       "  'sim_no': 1131,\n",
       "  'activate_month': 'june'},\n",
       " '112247': {'company_name': 'tata_indicom',\n",
       "  'price': 129,\n",
       "  'validity': 28,\n",
       "  'sim_no': 1131,\n",
       "  'activate_month': 'may'},\n",
       " '112248': {'company_name': 'aircel',\n",
       "  'price': 129,\n",
       "  'validity': 28,\n",
       "  'sim_no': 1131,\n",
       "  'activate_month': 'april'},\n",
       " '112249': {'company_name': 'mtnl',\n",
       "  'price': 129,\n",
       "  'validity': 28,\n",
       "  'sim_no': 1131,\n",
       "  'activate_month': 'august'},\n",
       " '112250': {'company_name': 'bpl',\n",
       "  'price': 129,\n",
       "  'validity': 28,\n",
       "  'sim_no': 1131,\n",
       "  'activate_month': 'april'}}"
      ]
     },
     "execution_count": 9,
     "metadata": {},
     "output_type": "execute_result"
    }
   ],
   "source": [
    "info = json.loads(a)\n",
    "info\n"
   ]
  },
  {
   "cell_type": "code",
   "execution_count": 10,
   "id": "c9a1b05d",
   "metadata": {},
   "outputs": [
    {
     "data": {
      "text/plain": [
       "{'company_name': 'bpl',\n",
       " 'price': 129,\n",
       " 'validity': 28,\n",
       " 'sim_no': 1131,\n",
       " 'activate_month': 'april'}"
      ]
     },
     "execution_count": 10,
     "metadata": {},
     "output_type": "execute_result"
    }
   ],
   "source": [
    "info[\"112250\"]\n"
   ]
  },
  {
   "cell_type": "code",
   "execution_count": 11,
   "id": "cb2bb36e",
   "metadata": {},
   "outputs": [
    {
     "data": {
      "text/plain": [
       "dict_items([('112233', {'company_name': 'jio', 'price': 219, 'validity': 28, 'sim_no': 1122, 'activate_month': 'april'}), ('112234', {'company_name': 'airtel', 'price': 399, 'validity': 56, 'sim_no': 1123, 'activate_month': 'june'}), ('112235', {'company_name': 'VI', 'price': 598, 'validity': 84, 'sim_no': 1124, 'activate_month': 'may'}), ('112236', {'company_name': 'vodafone', 'price': 199, 'validity': 28, 'sim_no': 1125, 'activate_month': 'february'}), ('112237', {'company_name': 'idea', 'price': 398, 'validity': 56, 'sim_no': 1126, 'activate_month': 'december'}), ('112238', {'company_name': 'relaince', 'price': 498, 'validity': 84, 'sim_no': 1127, 'activate_month': 'august'}), ('112239', {'company_name': 'gsm', 'price': 158, 'validity': 28, 'sim_no': 1128, 'activate_month': 'july'}), ('112240', {'company_name': 'telenor', 'price': 359, 'validity': 56, 'sim_no': 1129, 'activate_month': 'january'}), ('112241', {'company_name': 'tata_docomo', 'price': 599, 'validity': 84, 'sim_no': 1130, 'activate_month': 'march'}), ('112242', {'company_name': 'uninore', 'price': 129, 'validity': 28, 'sim_no': 1131, 'activate_month': 'april'}), ('112243', {'company_name': 'videocon', 'price': 129, 'validity': 28, 'sim_no': 1131, 'activate_month': 'december'}), ('112244', {'company_name': 'zing', 'price': 129, 'validity': 28, 'sim_no': 1131, 'activate_month': 'september'}), ('112245', {'company_name': 'tata_sky', 'price': 129, 'validity': 28, 'sim_no': 1131, 'activate_month': 'april'}), ('112246', {'company_name': 'bsnl', 'price': 129, 'validity': 28, 'sim_no': 1131, 'activate_month': 'june'}), ('112247', {'company_name': 'tata_indicom', 'price': 129, 'validity': 28, 'sim_no': 1131, 'activate_month': 'may'}), ('112248', {'company_name': 'aircel', 'price': 129, 'validity': 28, 'sim_no': 1131, 'activate_month': 'april'}), ('112249', {'company_name': 'mtnl', 'price': 129, 'validity': 28, 'sim_no': 1131, 'activate_month': 'august'}), ('112250', {'company_name': 'bpl', 'price': 129, 'validity': 28, 'sim_no': 1131, 'activate_month': 'april'})])"
      ]
     },
     "execution_count": 11,
     "metadata": {},
     "output_type": "execute_result"
    }
   ],
   "source": [
    "info.items()"
   ]
  },
  {
   "cell_type": "markdown",
   "id": "08930757",
   "metadata": {},
   "source": []
  }
 ],
 "metadata": {
  "kernelspec": {
   "display_name": "Python 3",
   "language": "python",
   "name": "python3"
  },
  "language_info": {
   "codemirror_mode": {
    "name": "ipython",
    "version": 3
   },
   "file_extension": ".py",
   "mimetype": "text/x-python",
   "name": "python",
   "nbconvert_exporter": "python",
   "pygments_lexer": "ipython3",
   "version": "3.8.8"
  }
 },
 "nbformat": 4,
 "nbformat_minor": 5
}
